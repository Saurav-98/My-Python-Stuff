{
 "cells": [
  {
   "cell_type": "markdown",
   "id": "b7106326",
   "metadata": {},
   "source": [
    "1+1"
   ]
  },
  {
   "cell_type": "code",
   "execution_count": 2,
   "id": "d8486968",
   "metadata": {},
   "outputs": [
    {
     "name": "stdout",
     "output_type": "stream",
     "text": [
      "Saurav\n"
     ]
    }
   ],
   "source": [
    "print(\"Saurav\")"
   ]
  },
  {
   "cell_type": "code",
   "execution_count": 4,
   "id": "2f4ffcce",
   "metadata": {},
   "outputs": [
    {
     "name": "stdout",
     "output_type": "stream",
     "text": [
      "I have started to learn Python\n"
     ]
    }
   ],
   "source": [
    "print(\"I have started to learn Python\")"
   ]
  },
  {
   "cell_type": "code",
   "execution_count": 9,
   "id": "9b1e58fe",
   "metadata": {},
   "outputs": [
    {
     "name": "stdout",
     "output_type": "stream",
     "text": [
      "Hello, World!!!\n"
     ]
    }
   ],
   "source": [
    "print(\"Hello, World!!!\")"
   ]
  },
  {
   "cell_type": "markdown",
   "id": "6daf194e",
   "metadata": {},
   "source": [
    "This is a Markdown Cell!"
   ]
  },
  {
   "cell_type": "code",
   "execution_count": 10,
   "id": "b68dc776",
   "metadata": {},
   "outputs": [
    {
     "name": "stdout",
     "output_type": "stream",
     "text": [
      "New Technology!\n"
     ]
    }
   ],
   "source": [
    "print(\"New Technology!\")"
   ]
  },
  {
   "cell_type": "code",
   "execution_count": null,
   "id": "ee7d64da",
   "metadata": {},
   "outputs": [],
   "source": []
  }
 ],
 "metadata": {
  "kernelspec": {
   "display_name": "Python 3 (ipykernel)",
   "language": "python",
   "name": "python3"
  },
  "language_info": {
   "codemirror_mode": {
    "name": "ipython",
    "version": 3
   },
   "file_extension": ".py",
   "mimetype": "text/x-python",
   "name": "python",
   "nbconvert_exporter": "python",
   "pygments_lexer": "ipython3",
   "version": "3.9.13"
  }
 },
 "nbformat": 4,
 "nbformat_minor": 5
}
